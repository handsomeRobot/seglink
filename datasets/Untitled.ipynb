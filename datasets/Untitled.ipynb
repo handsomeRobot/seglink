{
 "cells": [
  {
   "cell_type": "code",
   "execution_count": 2,
   "metadata": {},
   "outputs": [],
   "source": [
    "import xml.etree.ElementTree as ET  \n",
    "import numpy as np\n",
    "import os"
   ]
  },
  {
   "cell_type": "code",
   "execution_count": 3,
   "metadata": {},
   "outputs": [
    {
     "ename": "NameError",
     "evalue": "name 'w' is not defined",
     "output_type": "error",
     "traceback": [
      "\u001b[0;31m------------------------------------------------------------------------\u001b[0m",
      "\u001b[0;31mNameError\u001b[0m                              Traceback (most recent call last)",
      "\u001b[0;32m<ipython-input-3-9dd39d30329a>\u001b[0m in \u001b[0;36m<module>\u001b[0;34m\u001b[0m\n\u001b[1;32m     16\u001b[0m                    cords_4[\"xmax\"], cords_4[\"ymax\"], cords_4[\"xmax\"], cords_4[\"ymax\"]]\n\u001b[1;32m     17\u001b[0m         \u001b[0moriented_box\u001b[0m \u001b[0;34m=\u001b[0m \u001b[0;34m[\u001b[0m\u001b[0mint\u001b[0m\u001b[0;34m(\u001b[0m\u001b[0mi\u001b[0m\u001b[0;34m)\u001b[0m \u001b[0;32mfor\u001b[0m \u001b[0mi\u001b[0m \u001b[0;32min\u001b[0m \u001b[0mcords_8\u001b[0m\u001b[0;34m]\u001b[0m\u001b[0;34m\u001b[0m\u001b[0;34m\u001b[0m\u001b[0m\n\u001b[0;32m---> 18\u001b[0;31m         \u001b[0moriented_box\u001b[0m \u001b[0;34m=\u001b[0m \u001b[0mnp\u001b[0m\u001b[0;34m.\u001b[0m\u001b[0masarray\u001b[0m\u001b[0;34m(\u001b[0m\u001b[0moriented_box\u001b[0m\u001b[0;34m)\u001b[0m \u001b[0;34m/\u001b[0m \u001b[0;34m(\u001b[0m\u001b[0;34m[\u001b[0m\u001b[0mw\u001b[0m\u001b[0;34m,\u001b[0m \u001b[0mh\u001b[0m\u001b[0;34m]\u001b[0m \u001b[0;34m*\u001b[0m \u001b[0;36m4\u001b[0m\u001b[0;34m)\u001b[0m\u001b[0;34m;\u001b[0m\u001b[0;34m\u001b[0m\u001b[0;34m\u001b[0m\u001b[0m\n\u001b[0m\u001b[1;32m     19\u001b[0m         \u001b[0moriented_bboxes\u001b[0m\u001b[0;34m.\u001b[0m\u001b[0mappend\u001b[0m\u001b[0;34m(\u001b[0m\u001b[0moriented_box\u001b[0m\u001b[0;34m)\u001b[0m\u001b[0;34m;\u001b[0m\u001b[0;34m\u001b[0m\u001b[0;34m\u001b[0m\u001b[0m\n\u001b[1;32m     20\u001b[0m \u001b[0;34m\u001b[0m\u001b[0m\n",
      "\u001b[0;31mNameError\u001b[0m: name 'w' is not defined"
     ]
    }
   ],
   "source": [
    "src_path = \"/home/kxu/workspace/data/kuaidi/2018_11_13_kuaidi_cut/huitong/2018_11_14/annotations\"\n",
    "files = os.listdir(src_path)\n",
    "\n",
    "for f in files:\n",
    "    gt_filepath = os.path.join(src_path, f)\n",
    "    tree = ET.parse(gt_filepath)  \n",
    "    root = tree.getroot()\n",
    "    elements = root.getchildren()\n",
    "\n",
    "    objects = [i for i in elements if i.tag == 'object']\n",
    "    for obj in objects:\n",
    "        name = [i for i in obj if i.tag == 'name'][0].text\n",
    "        bndbox = [i for i in obj if i.tag == 'bndbox'][0]\n",
    "        cords_4 = dict((i.tag, i.text) for i in bndbox)\n",
    "        cords_8 = [cords_4[\"xmin\"], cords_4[\"ymin\"], cords_4[\"xmax\"], cords_4[\"ymin\"], \n",
    "                   cords_4[\"xmax\"], cords_4[\"ymax\"], cords_4[\"xmax\"], cords_4[\"ymax\"]]\n",
    "        oriented_box = [int(i) for i in cords_8]\n",
    "        oriented_box = np.asarray(oriented_box) / ([w, h] * 4);\n",
    "        oriented_bboxes.append(oriented_box);\n",
    "\n",
    "        xs = oriented_box.reshape(4, 2)[:, 0]                \n",
    "        ys = oriented_box.reshape(4, 2)[:, 1]\n",
    "        xmin = xs.min()\n",
    "        xmax = xs.max()\n",
    "        ymin = ys.min()\n",
    "        ymax = ys.max()\n",
    "        bboxes.append([xmin, ymin, xmax, ymax])\n",
    "\n",
    "        # might be wrong here, but it doesn't matter because the label is not going to be used in detection\n",
    "        labels_text.append(name); \n"
   ]
  },
  {
   "cell_type": "code",
   "execution_count": null,
   "metadata": {},
   "outputs": [],
   "source": []
  }
 ],
 "metadata": {
  "kernelspec": {
   "display_name": "Python 3",
   "language": "python",
   "name": "python3"
  },
  "language_info": {
   "codemirror_mode": {
    "name": "ipython",
    "version": 3
   },
   "file_extension": ".py",
   "mimetype": "text/x-python",
   "name": "python",
   "nbconvert_exporter": "python",
   "pygments_lexer": "ipython3",
   "version": "3.6.8"
  }
 },
 "nbformat": 4,
 "nbformat_minor": 2
}
